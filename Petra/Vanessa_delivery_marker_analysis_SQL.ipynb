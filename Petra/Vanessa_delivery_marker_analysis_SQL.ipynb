{
 "cells": [
  {
   "cell_type": "markdown",
   "metadata": {},
   "source": [
    "## Delivery Market Analysis with SQL\n",
    "\n",
    "For MVP we will focus on the following 5 questions:\n",
    "- What is the price distribution of menu items?\n",
    "- What is the distribution of restaurants per location?\n",
    "- Which are the top 10 pizza restaurants by rating?\n",
    "- Map locations offering kapsalons and their average price.\n",
    "- Compare restaurant distributions across UberEats, Deliveroo, and Takeaway. What are some of the market trends?\n",
    "\n",
    "### Connecting to the databases\n",
    "\n"
   ]
  },
  {
   "cell_type": "code",
   "execution_count": 6,
   "metadata": {},
   "outputs": [],
   "source": [
    "import sqlite3\n",
    "import pandas as pd\n",
    "\n",
    "takeaway_db = '../databases/takeaway.db'\n",
    "deliveroo_db ='../databases/deliveroo.db'\n",
    "deliveroo_db ='../databases/ubereats.db'\n",
    "\n",
    "def query_db(db, sql_query):\n",
    "    ''' input: db (path to SQLite database), sql_query (str)\n",
    "        output: pandas DataFrame\n",
    "    '''\n",
    "    conn = sqlite3.connect(db)\n",
    "    with conn:\n",
    "        res = pd.read_sql_query(sql_query, conn)\n",
    "    if conn:\n",
    "        conn.close()\n",
    "    return res"
   ]
  },
  {
   "cell_type": "markdown",
   "metadata": {},
   "source": [
    "## Takeaway \n",
    "<img  src='../assets/ER_schema_takeaway.png' width=500px>\n"
   ]
  },
  {
   "cell_type": "code",
   "execution_count": 43,
   "metadata": {},
   "outputs": [
    {
     "data": {
      "text/html": [
       "<div>\n",
       "<style scoped>\n",
       "    .dataframe tbody tr th:only-of-type {\n",
       "        vertical-align: middle;\n",
       "    }\n",
       "\n",
       "    .dataframe tbody tr th {\n",
       "        vertical-align: top;\n",
       "    }\n",
       "\n",
       "    .dataframe thead th {\n",
       "        text-align: right;\n",
       "    }\n",
       "</style>\n",
       "<table border=\"1\" class=\"dataframe\">\n",
       "  <thead>\n",
       "    <tr style=\"text-align: right;\">\n",
       "      <th></th>\n",
       "      <th>name</th>\n",
       "      <th>avg_price</th>\n",
       "    </tr>\n",
       "  </thead>\n",
       "  <tbody>\n",
       "    <tr>\n",
       "      <th>0</th>\n",
       "      <td>!Dinsdag/zaterdag! - pizzadag</td>\n",
       "      <td>10.333333</td>\n",
       "    </tr>\n",
       "    <tr>\n",
       "      <th>1</th>\n",
       "      <td>#AlcoholicDrinks</td>\n",
       "      <td>3.000000</td>\n",
       "    </tr>\n",
       "    <tr>\n",
       "      <th>2</th>\n",
       "      <td>#Burgers</td>\n",
       "      <td>11.000000</td>\n",
       "    </tr>\n",
       "    <tr>\n",
       "      <th>3</th>\n",
       "      <td>#Milkshakes</td>\n",
       "      <td>5.625000</td>\n",
       "    </tr>\n",
       "    <tr>\n",
       "      <th>4</th>\n",
       "      <td>#Soft</td>\n",
       "      <td>2.500000</td>\n",
       "    </tr>\n",
       "    <tr>\n",
       "      <th>...</th>\n",
       "      <td>...</td>\n",
       "      <td>...</td>\n",
       "    </tr>\n",
       "    <tr>\n",
       "      <th>9457</th>\n",
       "      <td>İskender kebablar</td>\n",
       "      <td>18.200000</td>\n",
       "    </tr>\n",
       "    <tr>\n",
       "      <th>9458</th>\n",
       "      <td>Œufs</td>\n",
       "      <td>8.500000</td>\n",
       "    </tr>\n",
       "    <tr>\n",
       "      <th>9459</th>\n",
       "      <td>Вісkу</td>\n",
       "      <td>4.333333</td>\n",
       "    </tr>\n",
       "    <tr>\n",
       "      <th>9460</th>\n",
       "      <td>Кірgerechten</td>\n",
       "      <td>12.500000</td>\n",
       "    </tr>\n",
       "    <tr>\n",
       "      <th>9461</th>\n",
       "      <td>♡ Valentijnsdeal ♡</td>\n",
       "      <td>37.500000</td>\n",
       "    </tr>\n",
       "  </tbody>\n",
       "</table>\n",
       "<p>9462 rows × 2 columns</p>\n",
       "</div>"
      ],
      "text/plain": [
       "                               name  avg_price\n",
       "0     !Dinsdag/zaterdag! - pizzadag  10.333333\n",
       "1                  #AlcoholicDrinks   3.000000\n",
       "2                          #Burgers  11.000000\n",
       "3                       #Milkshakes   5.625000\n",
       "4                             #Soft   2.500000\n",
       "...                             ...        ...\n",
       "9457              İskender kebablar  18.200000\n",
       "9458                           Œufs   8.500000\n",
       "9459                          Вісkу   4.333333\n",
       "9460                   Кірgerechten  12.500000\n",
       "9461             ♡ Valentijnsdeal ♡  37.500000\n",
       "\n",
       "[9462 rows x 2 columns]"
      ]
     },
     "execution_count": 43,
     "metadata": {},
     "output_type": "execute_result"
    }
   ],
   "source": [
    "query = \"\"\" SELECT categories.name, AVG(menuItems.price) AS avg_price\n",
    "            FROM menuItems\n",
    "            LEFT JOIN categories ON menuItems.ID = categories.item_id\n",
    "            GROUP BY categories.name\n",
    "        \"\"\"\n",
    "query_db(takeaway_db, query)"
   ]
  }
 ],
 "metadata": {
  "kernelspec": {
   "display_name": "Python 3",
   "language": "python",
   "name": "python3"
  },
  "language_info": {
   "codemirror_mode": {
    "name": "ipython",
    "version": 3
   },
   "file_extension": ".py",
   "mimetype": "text/x-python",
   "name": "python",
   "nbconvert_exporter": "python",
   "pygments_lexer": "ipython3",
   "version": "3.11.0"
  }
 },
 "nbformat": 4,
 "nbformat_minor": 2
}
