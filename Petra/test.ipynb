{
 "cells": [
  {
   "cell_type": "code",
   "execution_count": null,
   "metadata": {},
   "outputs": [
    {
     "name": "stdout",
     "output_type": "stream",
     "text": [
      "('veziroglu', 5, 455)\n",
      "('trend-kebab-pizzeria', 5, 165)\n",
      "('kebap-pizza-de-brug', 5, 312)\n",
      "('eethuis-carlos-aarschot', 5, 599)\n",
      "('pyramide-hamont', 4.9, 45)\n",
      "('am-princesse', 4.9, 367)\n",
      "('pizzeria-zirar-saint-denis', 4.9, 529)\n",
      "('snack-emes', 4.9, 498)\n",
      "('de-notenboom', 4.9, 706)\n",
      "('pizza-lesta', 4.9, 372)\n"
     ]
    }
   ],
   "source": [
    "### Key buesiness question 4 : Which are the top 10 pizza restaurants by rating? ###\n",
    "\n",
    "import sqlite3\n",
    "conn = sqlite3.connect('../databases/takeaway.db')\n",
    "cur = conn.cursor()\n",
    "\n",
    "# SQL query to find duplicates\n",
    "query = \"\"\"\n",
    "SELECT DISTINCT categories_restaurants.restaurant_id, restaurants.ratings, restaurants.ratingsNumber\n",
    "FROM categories_restaurants\n",
    "INNER JOIN restaurants\n",
    "ON categories_restaurants.restaurant_id = restaurants.primarySlug\n",
    "WHERE categories_restaurants.category_id LIKE '%pizza%' AND ratingsNumber >= 10\n",
    "ORDER BY restaurants.ratings DESC\n",
    "LIMIT 10;\n",
    "\"\"\"\n",
    "\n",
    "result = cur.execute(query).fetchall()  \n",
    "for row in result:\n",
    "    print(row)  \n"
   ]
  }
 ],
 "metadata": {
  "kernelspec": {
   "display_name": ".venv",
   "language": "python",
   "name": "python3"
  },
  "language_info": {
   "codemirror_mode": {
    "name": "ipython",
    "version": 3
   },
   "file_extension": ".py",
   "mimetype": "text/x-python",
   "name": "python",
   "nbconvert_exporter": "python",
   "pygments_lexer": "ipython3",
   "version": "3.12.6"
  }
 },
 "nbformat": 4,
 "nbformat_minor": 2
}
