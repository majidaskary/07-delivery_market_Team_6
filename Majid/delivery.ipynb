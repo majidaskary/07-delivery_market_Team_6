{
 "cells": [
  {
   "cell_type": "code",
   "execution_count": 21,
   "metadata": {},
   "outputs": [],
   "source": [
    "import sqlite3"
   ]
  },
  {
   "cell_type": "code",
   "execution_count": 32,
   "metadata": {},
   "outputs": [
    {
     "name": "stdout",
     "output_type": "stream",
     "text": [
      "[('Hummus dip', 6.95), ('Seasonal dip', 6.95), ('BarBacon', 12.95), ('Chick(p)ita', 13.95), ('Steak Republic', 14.95)]\n"
     ]
    }
   ],
   "source": [
    "# Connect to the database using a properly formatted path.\n",
    "connection = sqlite3.connect(\"C:/Users/becod/AI/projects/07-delivery_market_analysis_with_SQL/databases/takeaway.db\")\n",
    "\n",
    "cursor = connection.cursor()\n",
    "\n",
    "# Execute the SQL query to fetch rows.\n",
    "cursor.execute(\"\"\"\n",
    "               SELECT name, price\n",
    "               FROM menuItems\n",
    "               LIMIT 200;\n",
    "               \"\"\")\n",
    "\n",
    "# Fetch all results and store them in a variable.\n",
    "results = cursor.fetchall()\n",
    "\n",
    "# Print the fetched results.\n",
    "print(results[:5])\n",
    "\n",
    "# Close the connection when done.\n",
    "connection.close()"
   ]
  },
  {
   "cell_type": "code",
   "execution_count": null,
   "metadata": {},
   "outputs": [
    {
     "name": "stdout",
     "output_type": "stream",
     "text": [
      "Sample Data (First 5 Rows):\n",
      "\n",
      "Price Distribution:\n",
      "Price Range 0-10: 230390 items\n",
      "Price Range 10-20: 149249 items\n",
      "Price Range 20-30: 18073 items\n",
      "Price Range 30+: 5301 items\n"
     ]
    }
   ],
   "source": [
    "import sqlite3\n",
    "\n",
    "# Connect to the database using a properly formatted path.\n",
    "connection = sqlite3.connect(\"C:/Users/becod/AI/projects/07-delivery_market_analysis_with_SQL/databases/takeaway.db\")\n",
    "\n",
    "cursor = connection.cursor()\n",
    "\n",
    "# Step 1: Fetch name and price from menuItems (initial data retrieval)\n",
    "cursor.execute(\"\"\"\n",
    "    SELECT name, price\n",
    "    FROM menuItems\n",
    "    LIMIT 200;\n",
    "\"\"\")\n",
    "\n",
    "# Fetch all results and store them in a variable.\n",
    "results = cursor.fetchall()\n",
    "\n",
    "# Print the first 5 fetched results.\n",
    "print(\"Sample Data (First 5 Rows):\")\n",
    "#print(results[:10])\n",
    "\n",
    "# Step 2: Calculate price distribution \n",
    "cursor.execute(\"\"\"\n",
    "    SELECT \n",
    "        CASE \n",
    "            WHEN price <= 10 THEN '0-10'\n",
    "            WHEN price > 10 AND price <= 20 THEN '10-20'\n",
    "            WHEN price > 20 AND price <= 30 THEN '20-30'\n",
    "            ELSE '30+'\n",
    "        END AS price_range,\n",
    "        COUNT(*) AS item_count\n",
    "    FROM menuItems\n",
    "    GROUP BY price_range;\n",
    "\"\"\")\n",
    "\n",
    "# Fetch the price distribution results.\n",
    "price_distribution = cursor.fetchall()\n",
    "\n",
    "# Print the price distribution.\n",
    "print(\"\\nPrice Distribution:\")\n",
    "for range_, count in price_distribution:\n",
    "    print(f\"Price Range {range_}: {count} items\")\n",
    "\n",
    "# Close the connection when done.\n",
    "connection.close()\n"
   ]
  }
 ],
 "metadata": {
  "kernelspec": {
   "display_name": "SQLvenv",
   "language": "python",
   "name": "python3"
  },
  "language_info": {
   "codemirror_mode": {
    "name": "ipython",
    "version": 3
   },
   "file_extension": ".py",
   "mimetype": "text/x-python",
   "name": "python",
   "nbconvert_exporter": "python",
   "pygments_lexer": "ipython3",
   "version": "3.12.7"
  }
 },
 "nbformat": 4,
 "nbformat_minor": 2
}
