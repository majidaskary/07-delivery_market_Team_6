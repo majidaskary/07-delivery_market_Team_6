{
 "cells": [
  {
   "cell_type": "code",
   "execution_count": 37,
   "metadata": {},
   "outputs": [],
   "source": [
    "import sqlite3\n",
    "\n",
    "# Connect to the database using a properly formatted path.\n",
    "connection = sqlite3.connect(\"../databases/takeaway.db\")\n",
    "\n",
    "cursor = connection.cursor()"
   ]
  },
  {
   "cell_type": "markdown",
   "metadata": {},
   "source": [
    "B1: What is the price distribution of menu items?"
   ]
  },
  {
   "cell_type": "code",
   "execution_count": 38,
   "metadata": {},
   "outputs": [
    {
     "name": "stdout",
     "output_type": "stream",
     "text": [
      "Sample Data (First 5 Rows):\n",
      "\n",
      "Price Distribution:\n",
      "Price Range 0-10: 230390 items\n",
      "Price Range 10-20: 149249 items\n",
      "Price Range 20-30: 18073 items\n",
      "Price Range 30+: 5301 items\n"
     ]
    }
   ],
   "source": [
    "\n",
    "# Fetch all results and store them in a variable.\n",
    "results = cursor.fetchall()\n",
    "\n",
    "# Print the first 5 fetched results.\n",
    "print(\"Sample Data (First 5 Rows):\")\n",
    "#print(results[:10])\n",
    "\n",
    "# Step 2: Calculate price distribution \n",
    "cursor.execute(\"\"\"\n",
    "    SELECT \n",
    "        CASE \n",
    "            WHEN price <= 10 THEN '0-10'\n",
    "            WHEN price > 10 AND price <= 20 THEN '10-20'\n",
    "            WHEN price > 20 AND price <= 30 THEN '20-30'\n",
    "            ELSE '30+'\n",
    "        END AS price_range,\n",
    "        COUNT(*) AS item_count\n",
    "    FROM menuItems\n",
    "    GROUP BY price_range;\n",
    "\"\"\")\n",
    "\n",
    "# Fetch the price distribution results.\n",
    "price_distribution = cursor.fetchall()\n",
    "\n",
    "# Print the price distribution.\n",
    "print(\"\\nPrice Distribution:\")\n",
    "for range_, count in price_distribution:\n",
    "    print(f\"Price Range {range_}: {count} items\")\n",
    "\n",
    "# Close the connection when done.\n",
    "connection.close()\n"
   ]
  },
  {
   "cell_type": "markdown",
   "metadata": {},
   "source": [
    "O2: Which restaurants have the best price-to-rating ratio?"
   ]
  },
  {
   "cell_type": "code",
   "execution_count": 31,
   "metadata": {},
   "outputs": [
    {
     "name": "stdout",
     "output_type": "stream",
     "text": [
      "Top Restaurants with Best Price-to-Rating Ratio:\n",
      " 9.13   Pizza Hut Delivery,  address: Hubert d'Ydewallestraat 32, Brugge\n",
      " 8.74   Japans Restaurant Amatsu,  address: Hoogpoort 29, Gent\n",
      " 8.26   Pizza Hut Delivery,  address: Torhoutsesteenweg 270, Brugge Sint-Andries\n",
      " 8.20   Wok van Antwerpen,  address: Carnotstraat 123, Antwerpen\n",
      " 7.85   Mère Liban,  address: Kustlaan 24, Knocke-Heist\n",
      " 7.80   Drank Express,  address: Kortrijksesteenweg 77, Harelbeke\n",
      " 7.58   Little Ethiopia,  address: Zirkstraat 8, Antwerpen\n",
      " 7.45   New Restaurant Henri 1er,  address: Avenue de Messidor 181, Bruxelles\n",
      " 6.96   D-Afro Flavours,  address: Naamsestraat 87, Leuven\n",
      " 6.93   Mai Thai,  address: Suikerrui 26, Antwerpen\n"
     ]
    }
   ],
   "source": [
    "import sqlite3\n",
    "\n",
    "# Connect to the SQLite database\n",
    "db_path = \"../databases/takeaway.db\"\n",
    "connection = sqlite3.connect(db_path)\n",
    "cursor = connection.cursor()\n",
    "\n",
    "# SQL query to calculate the best price-to-rating ratio and include address and city\n",
    "query_price_to_rating_ratio = \"\"\"\n",
    "                                         -- Step 1: Calculate the average price for menu items grouped by primarySlug\n",
    "    WITH AvgMenuPrices AS (\n",
    "        SELECT \n",
    "            primarySlug,\n",
    "            AVG(price) AS avg_price\n",
    "        FROM \n",
    "            menuItems\n",
    "        GROUP BY \n",
    "            primarySlug\n",
    "    )\n",
    "                                        -- Step 2: Join the average prices with restaurant details\n",
    "    SELECT \n",
    "        restaurants.name AS restaurant_name,\n",
    "        restaurants.address AS restaurant_address,\n",
    "        restaurants.city AS restaurant_city,\n",
    "        AvgMenuPrices.avg_price / restaurants.ratings AS price_to_rating_ratio\n",
    "    FROM \n",
    "        restaurants\n",
    "    JOIN \n",
    "        AvgMenuPrices ON restaurants.primarySlug = AvgMenuPrices.primarySlug\n",
    "    WHERE \n",
    "        restaurants.ratings > 0         -- Exclude restaurants with zero or null ratings\n",
    "    ORDER BY \n",
    "        price_to_rating_ratio DESC      -- Sort by the best ratio (highest first)\n",
    "    LIMIT 10;                           -- Display top 5 restaurants\n",
    "\"\"\"\n",
    "\n",
    "# Execute the query\n",
    "cursor.execute(query_price_to_rating_ratio)\n",
    "\n",
    "# Fetch and display the results\n",
    "results = cursor.fetchall()\n",
    "print(\"Top Restaurants with Best Price-to-Rating Ratio:\")\n",
    "for row in results:\n",
    "    restaurant_name, restaurant_address, restaurant_city, ratio = row\n",
    "    #print(f\"Restaurant: {restaurant_name}, Address: {restaurant_address}, City: {restaurant_city}, Price-to-Rating Ratio: {ratio:.2f}\")\n",
    "    print(f\" {ratio:.2f}   {restaurant_name},  address: {restaurant_address}, {restaurant_city}\")\n",
    "# Close the connection\n",
    "connection.close()\n",
    "\n",
    "\n"
   ]
  }
 ],
 "metadata": {
  "kernelspec": {
   "display_name": "SQLvenv",
   "language": "python",
   "name": "python3"
  },
  "language_info": {
   "codemirror_mode": {
    "name": "ipython",
    "version": 3
   },
   "file_extension": ".py",
   "mimetype": "text/x-python",
   "name": "python",
   "nbconvert_exporter": "python",
   "pygments_lexer": "ipython3",
   "version": "3.12.7"
  }
 },
 "nbformat": 4,
 "nbformat_minor": 2
}
